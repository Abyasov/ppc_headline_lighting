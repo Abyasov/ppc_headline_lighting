{
 "cells": [
  {
   "cell_type": "markdown",
   "metadata": {},
   "source": [
    "# Когда нужна оценка подсветки?\n",
    "1. При написании текстов (заголовков)  \n",
    "2. При аудите кампаний\n",
    "\n",
    "\n",
    "# Требования к продукту\n",
    " - Или он часть большого продукта по написанию текстов и сборки РК в целом.  \n",
    " - Или он делает аудит РК, поэтому сам стучится по API. И здесь меня останавливает только АПИ эдвордс. Ну и в Директе помню было много кода. Но АПИ - это неизбежность ;)\n",
    " \n",
    " \n",
    "# Обьем MVP\n",
    " - загрузка экселек с колонками по стандарту\n",
    " - выгрузка стандартной эксельки с названием группы и скором\n",
    "\n",
    "\n",
    "# Открытые вопросы\n",
    " - Нужно ли анализировать весь текст, или работать только с заголовком 1. В любом случае надо получить все заголовки, то есть работать с группами.\n"
   ]
  },
  {
   "cell_type": "code",
   "execution_count": 2,
   "metadata": {},
   "outputs": [],
   "source": [
    "import pandas as pd\n",
    "import pymorphy2\n",
    "\n",
    "# TODO: парсить параметры из командной строки, определять тип файла и разметку автоматически\n",
    "free_format_file = 'test_data/free_format_file.xlsx' # нужны библиотеки\n",
    "\n",
    "# лематизатор\n",
    "morph = pymorphy2.MorphAnalyzer()\n",
    "# TODO: похоже нужен дополнительно свой словарик, напроимер \"продать\" и \"продавать\" - разные слова для pymorthy2 :(\n",
    "\n",
    "# получаем исходные данные\n",
    "data = pd.read_excel(free_format_file)\n",
    "\n"
   ]
  },
  {
   "cell_type": "code",
   "execution_count": 47,
   "metadata": {},
   "outputs": [],
   "source": [
    "def normalize(sentense):\n",
    "    norm = []\n",
    "    for w in sentense.split():\n",
    "        w = morph.parse(w)[0]\n",
    "        w = w.normal_form\n",
    "        norm.append(w)\n",
    "    return norm\n",
    "\n",
    "# TODO: отбрасывать пунктуацию\n",
    "# TODO: отбрасывать предлоги по списку или длине слова\n",
    "\n",
    "def evaluate(key_norm, head_norm):\n",
    "#   для начала простая оценка - будем считать сколько слов из ключа есть в заголовке, в процентах\n",
    "    score = 0\n",
    "    for w in head_norm:\n",
    "        if w in key_norm:\n",
    "            score += 1\n",
    "    return score/len(key_norm)\n"
   ]
  },
  {
   "cell_type": "code",
   "execution_count": null,
   "metadata": {},
   "outputs": [],
   "source": []
  },
  {
   "cell_type": "code",
   "execution_count": null,
   "metadata": {},
   "outputs": [],
   "source": []
  },
  {
   "cell_type": "markdown",
   "metadata": {},
   "source": [
    "Столкнулся с тем, что PyMorthy2 не корректно отрабатывает слова \"продал\" и \"продаем\" - возвращает разные начальные формы.  \n",
    "\n",
    "РАссматриваю вариант использовать яндексовский стеммер https://tech.yandex.ru/mystem/doc/index-docpage/. Надо будет разобраться как работать с внешней библиотекой. Вот пример вызова через файлы:  \n",
    "    mystem.exe -lcs test.txt out.txt  \n",
    "Красиво было бы использовать стандартный ввод/вывод.  \n",
    "\n",
    "В выходном потоке стемера надо избавиться от {} и что-то сделать с несколькими вариантами разбора слова. Как вариант - оставить только первый вариант. Нужно читать доку."
   ]
  },
  {
   "cell_type": "code",
   "execution_count": 59,
   "metadata": {},
   "outputs": [
    {
     "data": {
      "text/html": [
       "<div>\n",
       "<style scoped>\n",
       "    .dataframe tbody tr th:only-of-type {\n",
       "        vertical-align: middle;\n",
       "    }\n",
       "\n",
       "    .dataframe tbody tr th {\n",
       "        vertical-align: top;\n",
       "    }\n",
       "\n",
       "    .dataframe thead th {\n",
       "        text-align: right;\n",
       "    }\n",
       "</style>\n",
       "<table border=\"1\" class=\"dataframe\">\n",
       "  <thead>\n",
       "    <tr style=\"text-align: right;\">\n",
       "      <th></th>\n",
       "      <th>Keyword</th>\n",
       "      <th>Headline 1</th>\n",
       "      <th>Another field</th>\n",
       "      <th>And one additional</th>\n",
       "      <th>key_norm</th>\n",
       "      <th>head_norm</th>\n",
       "      <th>score</th>\n",
       "    </tr>\n",
       "  </thead>\n",
       "  <tbody>\n",
       "    <tr>\n",
       "      <th>0</th>\n",
       "      <td>ключевое слово</td>\n",
       "      <td>Заголовок с нулевой подсветкой</td>\n",
       "      <td>NaN</td>\n",
       "      <td>NaN</td>\n",
       "      <td>[ключевой, слово]</td>\n",
       "      <td>[заголовок, с, нулевой, подсветка]</td>\n",
       "      <td>0.0</td>\n",
       "    </tr>\n",
       "    <tr>\n",
       "      <th>1</th>\n",
       "      <td>продажа слонов</td>\n",
       "      <td>Купите слона со скидкой!</td>\n",
       "      <td>NaN</td>\n",
       "      <td>NaN</td>\n",
       "      <td>[продажа, слон]</td>\n",
       "      <td>[купить, слон, с, скидкой!]</td>\n",
       "      <td>0.5</td>\n",
       "    </tr>\n",
       "    <tr>\n",
       "      <th>2</th>\n",
       "      <td>продажа слонов</td>\n",
       "      <td>Продаем слона</td>\n",
       "      <td>NaN</td>\n",
       "      <td>NaN</td>\n",
       "      <td>[продажа, слон]</td>\n",
       "      <td>[продавать, слон]</td>\n",
       "      <td>0.5</td>\n",
       "    </tr>\n",
       "    <tr>\n",
       "      <th>3</th>\n",
       "      <td>слон красный купить</td>\n",
       "      <td>Купите милого красного слона</td>\n",
       "      <td>NaN</td>\n",
       "      <td>NaN</td>\n",
       "      <td>[слон, красный, купить]</td>\n",
       "      <td>[купить, милый, красный, слон]</td>\n",
       "      <td>1.0</td>\n",
       "    </tr>\n",
       "  </tbody>\n",
       "</table>\n",
       "</div>"
      ],
      "text/plain": [
       "               Keyword                      Headline 1  Another field  \\\n",
       "0       ключевое слово  Заголовок с нулевой подсветкой            NaN   \n",
       "1       продажа слонов        Купите слона со скидкой!            NaN   \n",
       "2       продажа слонов                   Продаем слона            NaN   \n",
       "3  слон красный купить    Купите милого красного слона            NaN   \n",
       "\n",
       "   And one additional                 key_norm  \\\n",
       "0                 NaN        [ключевой, слово]   \n",
       "1                 NaN          [продажа, слон]   \n",
       "2                 NaN          [продажа, слон]   \n",
       "3                 NaN  [слон, красный, купить]   \n",
       "\n",
       "                            head_norm  score  \n",
       "0  [заголовок, с, нулевой, подсветка]    0.0  \n",
       "1         [купить, слон, с, скидкой!]    0.5  \n",
       "2                   [продавать, слон]    0.5  \n",
       "3      [купить, милый, красный, слон]    1.0  "
      ]
     },
     "execution_count": 59,
     "metadata": {},
     "output_type": "execute_result"
    }
   ],
   "source": [
    "data = data.assign(key_norm = data['Keyword'].map(normalize))\n",
    "data = data.assign(head_norm = data['Headline 1'].map(normalize))\n",
    "data = data.assign(score = data.apply(lambda row: evaluate(row.key_norm, row.head_norm), axis=1))\n",
    "data"
   ]
  },
  {
   "cell_type": "code",
   "execution_count": null,
   "metadata": {},
   "outputs": [],
   "source": []
  },
  {
   "cell_type": "markdown",
   "metadata": {},
   "source": [
    "# Исследуем особенности pymorthy2"
   ]
  },
  {
   "cell_type": "code",
   "execution_count": 61,
   "metadata": {},
   "outputs": [
    {
     "name": "stdout",
     "output_type": "stream",
     "text": [
      "продать\n",
      "продавать\n"
     ]
    }
   ],
   "source": [
    "w = morph.parse('продал')[0]\n",
    "print(w.normal_form)\n",
    "\n",
    "w = morph.parse('продаем')[0]\n",
    "print(w.normal_form)\n"
   ]
  }
 ],
 "metadata": {
  "kernelspec": {
   "display_name": "Python 3",
   "language": "python",
   "name": "python3"
  },
  "language_info": {
   "codemirror_mode": {
    "name": "ipython",
    "version": 3
   },
   "file_extension": ".py",
   "mimetype": "text/x-python",
   "name": "python",
   "nbconvert_exporter": "python",
   "pygments_lexer": "ipython3",
   "version": "3.6.6"
  }
 },
 "nbformat": 4,
 "nbformat_minor": 1
}
